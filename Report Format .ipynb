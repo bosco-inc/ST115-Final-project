{
 "cells": [
  {
   "cell_type": "markdown",
   "id": "d782974f",
   "metadata": {},
   "source": [
    "<h1 style=\"font-size: 24px;\">Main Title</h1>\n",
    "\n",
    "## Table of Contents\n",
    "\n",
    "- [1. Introduction](#section-1)\n",
    "- [2. Research Questions](#section-2)\n",
    "- [3. Data Description](#section-3)\n",
    "- [4. Data Acquisition and Pre-processing](#section-4)\n",
    "- [5. Data Analysis](#section-5)\n",
    "## 1. Introduction <!-- {#section-1} -->\n",
    "#### <u>Motivation</u>\n",
    "#### <u>Goals of Study</u>\n",
    "Words about why we are doing it\n",
    " - 1. How did students perceive their educational experience based upon the subject of degree they studied?\n",
    "#### <u>Originality</u>\n",
    "## 2. Data Acquisition<!-- {#section-2} -->\n",
    "\n",
    "#### Datasets used\n",
    " - 1. NSS Dataset - A dataset containing data on final year students \n",
    "#### Description of Collected Data\n",
    "#### Data Storage Location\n",
    "#### Webscraping Code"
   ]
  },
  {
   "cell_type": "code",
   "execution_count": null,
   "id": "977a245d",
   "metadata": {},
   "outputs": [],
   "source": []
  },
  {
   "cell_type": "markdown",
   "id": "9dcd5b25",
   "metadata": {},
   "source": [
    "## 3. Preparing Data for Analysis"
   ]
  },
  {
   "cell_type": "code",
   "execution_count": null,
   "id": "04c86e66",
   "metadata": {},
   "outputs": [],
   "source": []
  },
  {
   "cell_type": "markdown",
   "id": "07d8cbc8",
   "metadata": {},
   "source": [
    "## 4. Data Analysis<!-- {#section-4} -->\n",
    "\n",
    "#### 4.1 Imported Libraries</p>"
   ]
  },
  {
   "cell_type": "code",
   "execution_count": 41,
   "id": "f37fdb6c",
   "metadata": {},
   "outputs": [],
   "source": [
    "import pandas as pd\n",
    "import numpy as np\n",
    "import regex\n",
    "import seaborn as sns\n",
    "import matplotlib.pyplot as plt\n",
    "import plotly.express as px\n",
    "from scipy.stats import t\n",
    "import import_ipynb"
   ]
  },
  {
   "cell_type": "markdown",
   "id": "3c01aefc",
   "metadata": {},
   "source": [
    "#### 4.2 Analysis of NSS Dataset"
   ]
  },
  {
   "cell_type": "code",
   "execution_count": null,
   "id": "bc22cc2a",
   "metadata": {},
   "outputs": [],
   "source": []
  },
  {
   "cell_type": "markdown",
   "id": "ffc33afa",
   "metadata": {},
   "source": []
  },
  {
   "cell_type": "code",
   "execution_count": null,
   "id": "0b4f20bb",
   "metadata": {},
   "outputs": [],
   "source": []
  },
  {
   "cell_type": "markdown",
   "id": "3d7364d0",
   "metadata": {},
   "source": [
    "## 5. Conclusion<!-- {#section-5} -->\n",
    "\n",
    "#### Summary of Results\n",
    "#### Question 1 \n",
    "#### Question 2 \n",
    "#### Question 3\n",
    "#### Limitations \n",
    "#### What else could be done?\n"
   ]
  }
 ],
 "metadata": {
  "kernelspec": {
   "display_name": "Python 3 (ipykernel)",
   "language": "python",
   "name": "python3"
  },
  "language_info": {
   "codemirror_mode": {
    "name": "ipython",
    "version": 3
   },
   "file_extension": ".py",
   "mimetype": "text/x-python",
   "name": "python",
   "nbconvert_exporter": "python",
   "pygments_lexer": "ipython3",
   "version": "3.11.4"
  }
 },
 "nbformat": 4,
 "nbformat_minor": 5
}
